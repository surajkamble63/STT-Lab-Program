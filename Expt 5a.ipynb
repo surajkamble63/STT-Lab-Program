{
 "cells": [
  {
   "cell_type": "code",
   "execution_count": 3,
   "id": "cf15f267-0690-481e-9b1e-274fac6ebf54",
   "metadata": {},
   "outputs": [
    {
     "name": "stdin",
     "output_type": "stream",
     "text": [
      "enter the file name: phonemail.txt\n"
     ]
    },
    {
     "name": "stdout",
     "output_type": "stream",
     "text": [
      "phone number found: ['+919113933539']\n",
      "   \n",
      "Email address found: ['rishikeshhuvannavar07@gmail.com']\n"
     ]
    }
   ],
   "source": [
    "import re\n",
    "filename=input(\"enter the file name:\")\n",
    "file=open(filename,'r')\n",
    "data=file.read()\n",
    "#print(data)\n",
    "phone_pattern=r'\\+91\\d{10}'\n",
    "phone_number=re.findall(phone_pattern,data)\n",
    "print(\"phone number found:\", phone_number)\n",
    "email_pattern=r'\\b[A-Za-z0-9_]+@gmail.com'\n",
    "email_address=re.findall(email_pattern,data)\n",
    "print(\"   \")\n",
    "print(\"Email address found:\", email_address)"
   ]
  },
  {
   "cell_type": "code",
   "execution_count": null,
   "id": "a1b5d828-7fda-45af-9561-446d639d1645",
   "metadata": {},
   "outputs": [],
   "source": []
  }
 ],
 "metadata": {
  "kernelspec": {
   "display_name": "Python [conda env:base] *",
   "language": "python",
   "name": "conda-base-py"
  },
  "language_info": {
   "codemirror_mode": {
    "name": "ipython",
    "version": 3
   },
   "file_extension": ".py",
   "mimetype": "text/x-python",
   "name": "python",
   "nbconvert_exporter": "python",
   "pygments_lexer": "ipython3",
   "version": "3.12.4"
  }
 },
 "nbformat": 4,
 "nbformat_minor": 5
}
